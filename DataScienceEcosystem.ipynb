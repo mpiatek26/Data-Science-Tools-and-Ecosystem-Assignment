{
 "cells": [
  {
   "cell_type": "markdown",
   "id": "4f31dedf-9fd2-4336-a4fc-9958c74ce278",
   "metadata": {},
   "source": [
    "# Data Science Tools and Ecosystem"
   ]
  },
  {
   "cell_type": "markdown",
   "id": "da18bb7c-d270-4b77-93a5-24cec7c51097",
   "metadata": {},
   "source": [
    "## Introduction\n",
    "\n",
    "In this notebook, Data Science Tools and Ecosystem are summarized.\n",
    "\n",
    "**Objectives:**\n",
    "\n",
    "- Some of the popular languages for data science include Python, R, and SQL.\n",
    "- Jupyter Notebooks allow users to write and execute code, view visualizations, and add text explanations all in one place.\n",
    "- Markdown cells can be used to create structured text in notebooks. Headings can be created using the # symbol, and lists can be created using either bullets or numbers.\n",
    "- Python can be used to evaluate simple and complex arithmetic expressions using operators such as +, -, *, /, and %.\n",
    "- Python can be used to convert between different units of measurement, such as converting minutes to hours."
   ]
  },
  {
   "cell_type": "markdown",
   "id": "abbff58b-17ea-4051-97a3-8ad969f5cd9d",
   "metadata": {},
   "source": [
    "## Some of the popular languages that Data Scientists use are:\n",
    "\n",
    "1. Julia\n",
    "2. Python\n",
    "3. R"
   ]
  },
  {
   "cell_type": "markdown",
   "id": "0c3a7726-4b4e-41dc-9474-3eff5c4086ff",
   "metadata": {},
   "source": [
    "## Some of the commonly used libraries used by Data Scientists include:\n",
    "\n",
    "1. Matplotlib\n",
    "2. NumPy\n",
    "3. Pandas"
   ]
  },
  {
   "cell_type": "markdown",
   "id": "b008ab7f-5d64-46ba-9814-c64471459318",
   "metadata": {},
   "source": [
    "| Data Science Tools | \n",
    "|----------|\n",
    "| Jupyter Notebooks | \n",
    "| R Studio | \n",
    "| Spyder |"
   ]
  },
  {
   "cell_type": "markdown",
   "id": "c5534362-d9db-4658-9156-a72e6b42e081",
   "metadata": {},
   "source": [
    "### Below are a few examples of evaluating arithmetic expressions in Python"
   ]
  },
  {
   "cell_type": "code",
   "execution_count": 8,
   "id": "5ed35f17-0c45-4e18-b9d5-ae866512204c",
   "metadata": {},
   "outputs": [
    {
     "data": {
      "text/plain": [
       "17"
      ]
     },
     "execution_count": 8,
     "metadata": {},
     "output_type": "execute_result"
    }
   ],
   "source": [
    "# This is a simple arithmetic expression to multiply then add integers \n",
    "\n",
    "(3*4)+5"
   ]
  },
  {
   "cell_type": "code",
   "execution_count": 10,
   "id": "1dbd1aa2-6bb3-4c6f-91f7-c4aa4b37a8d2",
   "metadata": {},
   "outputs": [
    {
     "data": {
      "text/plain": [
       "3.3333333333333335"
      ]
     },
     "execution_count": 10,
     "metadata": {},
     "output_type": "execute_result"
    }
   ],
   "source": [
    "# This will convert 200 minutes to hours by diving by 60\n",
    "\n",
    "200/60"
   ]
  },
  {
   "cell_type": "markdown",
   "id": "ca4b7fe6-b677-488a-8183-0adbf96c26eb",
   "metadata": {},
   "source": [
    "## Author\n",
    "\n",
    "Michael Piatek"
   ]
  }
 ],
 "metadata": {
  "kernelspec": {
   "display_name": "Python",
   "language": "python",
   "name": "conda-env-python-py"
  },
  "language_info": {
   "codemirror_mode": {
    "name": "ipython",
    "version": 3
   },
   "file_extension": ".py",
   "mimetype": "text/x-python",
   "name": "python",
   "nbconvert_exporter": "python",
   "pygments_lexer": "ipython3",
   "version": "3.7.12"
  }
 },
 "nbformat": 4,
 "nbformat_minor": 5
}
